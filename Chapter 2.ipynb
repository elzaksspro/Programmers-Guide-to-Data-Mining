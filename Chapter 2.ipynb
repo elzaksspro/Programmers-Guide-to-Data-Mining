{
 "cells": [
  {
   "cell_type": "markdown",
   "metadata": {},
   "source": [
    "** Beginner's Guide to Data Mining by Ron Zacharski** <br>\n",
    "*Chapter 2 - Collabarative Filtering* "
   ]
  },
  {
   "cell_type": "code",
   "execution_count": 1,
   "metadata": {
    "collapsed": true
   },
   "outputs": [],
   "source": [
    "users = {\"Angelica\":{\"Blues Traveler\":3.5, \"Broken Bells\":2.0, \"Norah Jones\":4.5, \"Phoenix\":5.0, \"Slightly Stoopid\":1.5,\n",
    "                    \"The Strokes\":2.5, \"Vampire Weekend\":2.0}, \n",
    "        \"Bill\": {\"Blues Traveler\": 2.0, \"Broken Bells\": 3.5, \"Deadmau5\": 4.0, \"Phoenix\": 2.0, \n",
    "                 \"Slightly Stoopid\": 3.5, \"Vampire Weekend\": 3.0},\n",
    "        \"Chan\": {\"Blues Traveler\": 5.0, \"Broken Bells\": 1.0, \"Deadmau5\": 1.0, \"Norah Jones\": 3.0, \"Phoenix\": 5,\n",
    "                  \"Slightly Stoopid\": 1.0},\n",
    "        \"Dan\": {\"Blues Traveler\": 3.0, \"Broken Bells\": 4.0, \"Deadmau5\": 4.5, \"Phoenix\": 3.0, \"Slightly Stoopid\": 4.5, \n",
    "                \"The Strokes\": 4.0,\"Vampire Weekend\": 2.0},\n",
    "        \"Hailey\": {\"Broken Bells\": 4.0, \"Deadmau5\": 1.0, \"Norah Jones\": 4.0, \"The Strokes\": 4.0,\"Vampire Weekend\": 1.0},\n",
    "        \"Jordyn\": {\"Broken Bells\": 4.5, \"Deadmau5\": 4.0, \"Norah Jones\": 5.0, \"Phoenix\": 5.0, \"Slightly Stoopid\": 4.5,\n",
    "                   \"The Strokes\": 4.0, \"Vampire Weekend\": 4.0},\n",
    "        \"Sam\": {\"Blues Traveler\": 5.0, \"Broken Bells\": 2.0, \"Norah Jones\": 3.0, \"Phoenix\": 5.0, \"Slightly Stoopid\": 4.0,\n",
    "                \"The Strokes\": 5.0},\n",
    "        \"Veronica\": {\"Blues Traveler\": 3.0, \"Norah Jones\": 5.0, \"Phoenix\": 4.0, \"Slightly Stoopid\": 2.5,\n",
    "                     \"The Strokes\": 3.0}}"
   ]
  },
  {
   "cell_type": "code",
   "execution_count": 2,
   "metadata": {
    "collapsed": false
   },
   "outputs": [
    {
     "data": {
      "text/plain": [
       "({'Blues Traveler': 2.0,\n",
       "  'Broken Bells': 3.5,\n",
       "  'Deadmau5': 4.0,\n",
       "  'Phoenix': 2.0,\n",
       "  'Slightly Stoopid': 3.5,\n",
       "  'Vampire Weekend': 3.0},\n",
       " {'Broken Bells': 4.5,\n",
       "  'Deadmau5': 4.0,\n",
       "  'Norah Jones': 5.0,\n",
       "  'Phoenix': 5.0,\n",
       "  'Slightly Stoopid': 4.5,\n",
       "  'The Strokes': 4.0,\n",
       "  'Vampire Weekend': 4.0})"
      ]
     },
     "execution_count": 2,
     "metadata": {},
     "output_type": "execute_result"
    }
   ],
   "source": [
    "users[\"Bill\"], users[\"Jordyn\"]"
   ]
  },
  {
   "cell_type": "code",
   "execution_count": 44,
   "metadata": {
    "collapsed": false
   },
   "outputs": [
    {
     "data": {
      "text/plain": [
       "(3.0, 4.5)"
      ]
     },
     "execution_count": 44,
     "metadata": {},
     "output_type": "execute_result"
    }
   ],
   "source": [
    "users[\"Veronica\"][\"Blues Traveler\"], users[\"Dan\"][\"Deadmau5\"]"
   ]
  },
  {
   "cell_type": "markdown",
   "metadata": {},
   "source": [
    "The Manhattan distance is simply the distance between two points in a N dimensional space based on a horizontal or vertical path between the points.\n",
    "In our scenario, the Manhattan distance between two users will simply be the sum of the absolute differences between the ratings of user 1 and user 2 for each band rated by both the users."
   ]
  },
  {
   "cell_type": "markdown",
   "metadata": {},
   "source": [
    "Code to compute the Manhattan distance"
   ]
  },
  {
   "cell_type": "code",
   "execution_count": 4,
   "metadata": {
    "collapsed": true
   },
   "outputs": [],
   "source": [
    "def Manhattan(rating1, rating2):\n",
    "    ### Computes Manhattan distance between two users ###\n",
    "    distance = 0\n",
    "    for key in rating1:\n",
    "        if key in rating2:\n",
    "            distance += (abs(rating1[key] - rating2[key]))\n",
    "    return distance"
   ]
  },
  {
   "cell_type": "code",
   "execution_count": 5,
   "metadata": {
    "collapsed": false
   },
   "outputs": [
    {
     "data": {
      "text/plain": [
       "2.0"
      ]
     },
     "execution_count": 5,
     "metadata": {},
     "output_type": "execute_result"
    }
   ],
   "source": [
    "Manhattan(users[\"Veronica\"], users[\"Hailey\"])"
   ]
  },
  {
   "cell_type": "code",
   "execution_count": 6,
   "metadata": {
    "collapsed": false
   },
   "outputs": [
    {
     "data": {
      "text/plain": [
       "4.5"
      ]
     },
     "execution_count": 6,
     "metadata": {},
     "output_type": "execute_result"
    }
   ],
   "source": [
    "Manhattan(users[\"Angelica\"], users[\"Chan\"])"
   ]
  },
  {
   "cell_type": "markdown",
   "metadata": {},
   "source": [
    "Now that we know how to compute Manhattan distances, we can find out the nearest neighbors to our user of interest based on their Manhattan distances from our user. "
   ]
  },
  {
   "cell_type": "markdown",
   "metadata": {},
   "source": [
    "Function to find the nearest person"
   ]
  },
  {
   "cell_type": "code",
   "execution_count": 7,
   "metadata": {
    "collapsed": true
   },
   "outputs": [],
   "source": [
    "def nearestneighbor(username, users):\n",
    "    ###creates a sorted list of users based on their Manhattan distance to the username###\n",
    "    distances = []\n",
    "    for user in users:\n",
    "        if user != username:\n",
    "            distance = Manhattan(users[user], users[username])\n",
    "            distances.append((distance, user))\n",
    "    distances.sort()\n",
    "    return distances"
   ]
  },
  {
   "cell_type": "code",
   "execution_count": 8,
   "metadata": {
    "collapsed": false
   },
   "outputs": [
    {
     "name": "stdout",
     "output_type": "stream",
     "text": [
      "[(2.0, 'Veronica'), (4.0, 'Chan'), (4.0, 'Sam'), (4.5, 'Dan'), (5.0, 'Angelica'), (5.5, 'Bill'), (7.5, 'Jordyn')]\n"
     ]
    }
   ],
   "source": [
    "print(nearestneighbor(\"Hailey\", users))"
   ]
  },
  {
   "cell_type": "code",
   "execution_count": 9,
   "metadata": {
    "collapsed": false
   },
   "outputs": [
    {
     "data": {
      "text/plain": [
       "4.0"
      ]
     },
     "execution_count": 9,
     "metadata": {},
     "output_type": "execute_result"
    }
   ],
   "source": [
    "users[nearestneighbor(\"Hailey\", users)[0][1]][\"Phoenix\"]"
   ]
  },
  {
   "cell_type": "markdown",
   "metadata": {},
   "source": [
    "We now have enough tools to start making recommendations to our users. We can accomplish this in a few steps.\n",
    "First, find out the nearest neighbor to our user using the nearestneighbor function. Next, get the ratings of all the bands which our neighbor has rated but the user has not. From these set of bands, we recommend to our user those with the highest ratings."
   ]
  },
  {
   "cell_type": "markdown",
   "metadata": {},
   "source": [
    "Now let's create a function which provides recommendations to users"
   ]
  },
  {
   "cell_type": "code",
   "execution_count": 10,
   "metadata": {
    "collapsed": true
   },
   "outputs": [],
   "source": [
    "def recommend(username, users):\n",
    "    ### find the nearest neighbor to our username\n",
    "    nearest = nearestneighbor(username, users)[0][1]\n",
    "    recommendations = []\n",
    "    ### get the list of bands which the username rated and the list of bands the nearest neighbor rated\n",
    "    neighborRatings = users[nearest]\n",
    "    usernameRatings = users[username]\n",
    "    ### create a sorted list of bands which the neighbor has rated but username has not\n",
    "    for artist in neighborRatings:\n",
    "        if artist not in usernameRatings:\n",
    "            recommendations.append((neighborRatings[artist], artist))\n",
    "    recommendations.sort(reverse=True)\n",
    "    return recommendations"
   ]
  },
  {
   "cell_type": "code",
   "execution_count": 11,
   "metadata": {
    "collapsed": false
   },
   "outputs": [
    {
     "data": {
      "text/plain": [
       "[(4.0, 'Phoenix'), (3.0, 'Blues Traveler'), (2.5, 'Slightly Stoopid')]"
      ]
     },
     "execution_count": 11,
     "metadata": {},
     "output_type": "execute_result"
    }
   ],
   "source": [
    "recommend(\"Hailey\", users)"
   ]
  },
  {
   "cell_type": "markdown",
   "metadata": {},
   "source": [
    "This is a very simple and basic recommender. As one can clearly see, there are a few flaws with it. For instance, if our neighbor has only rated bands rated by our user, we do not have any recommendations to make based on the ratings of our nearest neighbor. This is because we do not have a single band which is rated by or neighbor but not by our user."
   ]
  },
  {
   "cell_type": "markdown",
   "metadata": {},
   "source": [
    "Below is an example."
   ]
  },
  {
   "cell_type": "code",
   "execution_count": 12,
   "metadata": {
    "collapsed": false
   },
   "outputs": [
    {
     "data": {
      "text/plain": [
       "[]"
      ]
     },
     "execution_count": 12,
     "metadata": {},
     "output_type": "execute_result"
    }
   ],
   "source": [
    "recommend(\"Angelica\", users)"
   ]
  },
  {
   "cell_type": "markdown",
   "metadata": {},
   "source": [
    "This shows us that using just one neighbor is not a great idea to make recommendations."
   ]
  },
  {
   "cell_type": "markdown",
   "metadata": {},
   "source": [
    "The Manhattan distance is not the only way to calculate distances between two users. This measure comes from a more general function called the Minkowski distance function. The Minkowski distance function is shown below."
   ]
  },
  {
   "cell_type": "markdown",
   "metadata": {},
   "source": [
    "$$d(x, y) = (\\sum_{k=1}^{k=n} |x_{k} - y_{k}|^r)^{(1/r)}$$"
   ]
  },
  {
   "cell_type": "markdown",
   "metadata": {},
   "source": [
    "For r = 1, we get the Manhattan distance.<br>\n",
    "For r = 2, we get the Euclidean distance."
   ]
  },
  {
   "cell_type": "markdown",
   "metadata": {},
   "source": [
    "Now, it is time to make our distance function more flexible. We will modify our Manhattan function and generalize it to calculate Minkowski distance."
   ]
  },
  {
   "cell_type": "code",
   "execution_count": 13,
   "metadata": {
    "collapsed": false
   },
   "outputs": [],
   "source": [
    "def Minkowski(rating1, rating2, r):\n",
    "    ###determines the Minkowski distance between two users###\n",
    "    distance = 0\n",
    "    for band in rating1:\n",
    "        if band in rating2:\n",
    "            distance += (abs(rating1[band] - rating2[band]))**r\n",
    "    return (distance)**(1/r)"
   ]
  },
  {
   "cell_type": "markdown",
   "metadata": {},
   "source": [
    "We will now alter the nearest neighbor function to use the Minkowski distance. This function creates a sorted list of users based on their Minkowski distance with a particular user of interest."
   ]
  },
  {
   "cell_type": "code",
   "execution_count": 14,
   "metadata": {
    "collapsed": true
   },
   "outputs": [],
   "source": [
    "from operator import itemgetter"
   ]
  },
  {
   "cell_type": "code",
   "execution_count": 15,
   "metadata": {
    "collapsed": true
   },
   "outputs": [],
   "source": [
    "def nearestneighbor(username, users, r):\n",
    "    ###sorted list of users based on their distance to username###\n",
    "    distances = []\n",
    "    for user in users:\n",
    "        if user != username:\n",
    "            distance = Minkowski(users[user], users[username], r)\n",
    "            distances.append((user, distance))\n",
    "    return sorted(distances, key = itemgetter(1))"
   ]
  },
  {
   "cell_type": "code",
   "execution_count": 16,
   "metadata": {
    "collapsed": false
   },
   "outputs": [
    {
     "data": {
      "text/plain": [
       "4.387482193696061"
      ]
     },
     "execution_count": 16,
     "metadata": {},
     "output_type": "execute_result"
    }
   ],
   "source": [
    "Minkowski(users[\"Hailey\"], users[\"Jordyn\"], 2)"
   ]
  },
  {
   "cell_type": "code",
   "execution_count": 17,
   "metadata": {
    "collapsed": false
   },
   "outputs": [
    {
     "data": {
      "text/plain": [
       "[('Bill', 2.1213203435596424),\n",
       " ('Veronica', 2.449489742783178),\n",
       " ('Jordyn', 2.9154759474226504),\n",
       " ('Hailey', 3.640054944640259),\n",
       " ('Sam', 3.640054944640259),\n",
       " ('Angelica', 4.415880433163924),\n",
       " ('Chan', 6.442049363362563)]"
      ]
     },
     "execution_count": 17,
     "metadata": {},
     "output_type": "execute_result"
    }
   ],
   "source": [
    "nearestneighbor(\"Dan\", users, 2)"
   ]
  },
  {
   "cell_type": "code",
   "execution_count": 18,
   "metadata": {
    "collapsed": false
   },
   "outputs": [
    {
     "data": {
      "text/plain": [
       "4.0"
      ]
     },
     "execution_count": 18,
     "metadata": {},
     "output_type": "execute_result"
    }
   ],
   "source": [
    "users[\"Dan\"][\"Broken Bells\"]"
   ]
  },
  {
   "cell_type": "markdown",
   "metadata": {},
   "source": [
    "The Minkowski distance function also has its own flaws. One of them is that users have different ways to rate. Some people are very generous with their ratings and will never rate lower than a 3 (on a 5 point scale). On the other hand, some users are conservative and would never rate anything a 4 or a 5 (again, on a scale on 1 to 5) even if everything is perfect. This subjectivity can affect our Minkowski distance metric and, ultimately, our recommendations."
   ]
  },
  {
   "cell_type": "markdown",
   "metadata": {},
   "source": [
    "Fortunately, there is a way around this. We have another metric called the Pearson Correlation which calculates the similarity between users based on their ratings. This valus always lies between -1 and 1, inclusive. This allows us to understand the similarity between user ratings on an objective scale, even if their subjective scales were completely different. <br>\n",
    "A value of 1 implies that our users are perfectly similar in their ratings whereas a value of -1 implies perfect dissimilarity."
   ]
  },
  {
   "cell_type": "markdown",
   "metadata": {},
   "source": [
    "In the book, the author provides an approximation of the pearson correlation coefficient. This is just a matter of convenience as it allows us to calculate the value with just a single pass of the dataset.<br>\n",
    "This approximation is given below."
   ]
  },
  {
   "cell_type": "markdown",
   "metadata": {},
   "source": [
    "$$r = \\frac {\\sum_{i=1}^{i=n} x_{i}y_{i} - \\frac{\\sum_{i=1}^{i=n} x_{i}\\sum_{i=1}^{i=n}y_{i}}{n}}{\\sqrt{\\sum_{i=1}^{i=n} x^2_{i} - \\frac{{(\\sum_{i=1}^{i=n} x_{i})}^{2}}{n}} \\sqrt{\\sum_{i=1}^{i=n} y^2_{i} - \\frac{{(\\sum_{i=1}^{i=n} y_{i})}^{2}}{n}}} $$"
   ]
  },
  {
   "cell_type": "markdown",
   "metadata": {},
   "source": [
    "Let us implement the approximation of the pearson correlation coefficient in the book"
   ]
  },
  {
   "cell_type": "code",
   "execution_count": 19,
   "metadata": {
    "collapsed": false
   },
   "outputs": [],
   "source": [
    "import pandas as pd\n",
    "from math import isnan, sqrt"
   ]
  },
  {
   "cell_type": "code",
   "execution_count": 20,
   "metadata": {
    "collapsed": false
   },
   "outputs": [],
   "source": [
    "def pearson(user1, user2):\n",
    "    ### calculates the pearson correlation coefficient approximation ###\n",
    "    user1_total = 0\n",
    "    user1_sq = 0\n",
    "    user2_total = 0\n",
    "    user2_sq = 0\n",
    "    product = 0\n",
    "    n = 0\n",
    "    for band in user1:\n",
    "        if band in user2:\n",
    "            user1_total += user1[band]\n",
    "            user2_total += user2[band]\n",
    "            user1_sq += user1[band]**2\n",
    "            user2_sq += user2[band]**2\n",
    "            product += user1[band]*user2[band]\n",
    "            n += 1\n",
    "    ### return 0 if no common bands ###\n",
    "    if n == 0:\n",
    "        return 0\n",
    "    ### return 0 if denominator is zero ###\n",
    "    elif (sqrt(user1_sq - (user1_total**2/n)==0)) or (sqrt(user2_sq - (user2_total**2/n))==0):                                               \n",
    "        return 0\n",
    "    else:\n",
    "        value = (product - (user1_total*user2_total/n))/((sqrt(user1_sq - (user1_total**2/n)))*(sqrt(user2_sq - (user2_total**2/n))))\n",
    "    return value"
   ]
  },
  {
   "cell_type": "code",
   "execution_count": 21,
   "metadata": {
    "collapsed": false
   },
   "outputs": [
    {
     "data": {
      "text/plain": [
       "-0.9040534990682699"
      ]
     },
     "execution_count": 21,
     "metadata": {},
     "output_type": "execute_result"
    }
   ],
   "source": [
    "pearson(users[\"Angelica\"], users[\"Bill\"])"
   ]
  },
  {
   "cell_type": "code",
   "execution_count": 22,
   "metadata": {
    "collapsed": false
   },
   "outputs": [
    {
     "data": {
      "text/plain": [
       "0.42008402520840293"
      ]
     },
     "execution_count": 22,
     "metadata": {},
     "output_type": "execute_result"
    }
   ],
   "source": [
    "pearson(users[\"Angelica\"], users[\"Hailey\"])"
   ]
  },
  {
   "cell_type": "code",
   "execution_count": 23,
   "metadata": {
    "collapsed": false
   },
   "outputs": [
    {
     "data": {
      "text/plain": [
       "0.7639748605475432"
      ]
     },
     "execution_count": 23,
     "metadata": {},
     "output_type": "execute_result"
    }
   ],
   "source": [
    "pearson(users[\"Angelica\"], users[\"Jordyn\"])"
   ]
  },
  {
   "cell_type": "markdown",
   "metadata": {},
   "source": [
    "Before we start making a recommender system, let us make one more function to measure similarity between users using the Cosine Similarity metric. This metric is extremely useful when we have sparse data."
   ]
  },
  {
   "cell_type": "code",
   "execution_count": 24,
   "metadata": {
    "collapsed": false
   },
   "outputs": [],
   "source": [
    "def cosine(user1, user2):\n",
    "    sum1 = 0\n",
    "    sum2 = 0\n",
    "    product = 0\n",
    "    n = 0\n",
    "    for movie in user1:\n",
    "        sum1 += user1[movie]**2\n",
    "        if movie in user2:\n",
    "            product += user1[movie]*user2[movie]\n",
    "            n += 1\n",
    "    for movie in user2:\n",
    "        sum2 += user2[movie]**2\n",
    "    if n == 0:\n",
    "        return 0\n",
    "    else:\n",
    "        return product/(sqrt(sum1)*sqrt(sum2))"
   ]
  },
  {
   "cell_type": "code",
   "execution_count": 66,
   "metadata": {
    "collapsed": false
   },
   "outputs": [
    {
     "data": {
      "text/plain": [
       "0.9246279432210068"
      ]
     },
     "execution_count": 66,
     "metadata": {},
     "output_type": "execute_result"
    }
   ],
   "source": [
    "cosine(users[\"Angelica\"], users[\"Veronica\"])"
   ]
  },
  {
   "cell_type": "code",
   "execution_count": 67,
   "metadata": {
    "collapsed": false
   },
   "outputs": [
    {
     "data": {
      "text/plain": [
       "0.8025694479618785"
      ]
     },
     "execution_count": 67,
     "metadata": {},
     "output_type": "execute_result"
    }
   ],
   "source": [
    "cosine(users[\"Angelica\"], users[\"Jordyn\"])"
   ]
  },
  {
   "cell_type": "code",
   "execution_count": 68,
   "metadata": {
    "collapsed": false
   },
   "outputs": [
    {
     "data": {
      "text/plain": [
       "0.540392532615596"
      ]
     },
     "execution_count": 68,
     "metadata": {},
     "output_type": "execute_result"
    }
   ],
   "source": [
    "cosine(users[\"Angelica\"], users[\"Bill\"])"
   ]
  },
  {
   "cell_type": "markdown",
   "metadata": {},
   "source": [
    "Let us put all this information to user and make a simple recommender system. We have data about 25 users and their ratings for 25 movies. We will user collabarative filtering to make our recommendations."
   ]
  },
  {
   "cell_type": "code",
   "execution_count": 25,
   "metadata": {
    "collapsed": false
   },
   "outputs": [],
   "source": [
    "ratings = pd.read_csv('Movie_Ratings.csv', index_col=0)"
   ]
  },
  {
   "cell_type": "code",
   "execution_count": 26,
   "metadata": {
    "collapsed": false
   },
   "outputs": [
    {
     "data": {
      "text/html": [
       "<div>\n",
       "<table border=\"1\" class=\"dataframe\">\n",
       "  <thead>\n",
       "    <tr style=\"text-align: right;\">\n",
       "      <th></th>\n",
       "      <th>Patrick C</th>\n",
       "      <th>Heather</th>\n",
       "      <th>Bryan</th>\n",
       "      <th>Patrick T</th>\n",
       "      <th>Thomas</th>\n",
       "      <th>aaron</th>\n",
       "      <th>vanessa</th>\n",
       "      <th>greg</th>\n",
       "      <th>brian</th>\n",
       "      <th>ben</th>\n",
       "      <th>...</th>\n",
       "      <th>Zak</th>\n",
       "      <th>Matt</th>\n",
       "      <th>Chris.1</th>\n",
       "      <th>Josh</th>\n",
       "      <th>Amy</th>\n",
       "      <th>Valerie</th>\n",
       "      <th>Gary</th>\n",
       "      <th>Stephen</th>\n",
       "      <th>Jessica</th>\n",
       "      <th>Jeff</th>\n",
       "    </tr>\n",
       "  </thead>\n",
       "  <tbody>\n",
       "    <tr>\n",
       "      <th>Alien</th>\n",
       "      <td>NaN</td>\n",
       "      <td>NaN</td>\n",
       "      <td>2.0</td>\n",
       "      <td>NaN</td>\n",
       "      <td>5.0</td>\n",
       "      <td>4.0</td>\n",
       "      <td>NaN</td>\n",
       "      <td>NaN</td>\n",
       "      <td>4.0</td>\n",
       "      <td>NaN</td>\n",
       "      <td>...</td>\n",
       "      <td>NaN</td>\n",
       "      <td>NaN</td>\n",
       "      <td>4.0</td>\n",
       "      <td>3.0</td>\n",
       "      <td>NaN</td>\n",
       "      <td>NaN</td>\n",
       "      <td>2.0</td>\n",
       "      <td>5.0</td>\n",
       "      <td>NaN</td>\n",
       "      <td>4.0</td>\n",
       "    </tr>\n",
       "    <tr>\n",
       "      <th>Avatar</th>\n",
       "      <td>4.0</td>\n",
       "      <td>5.0</td>\n",
       "      <td>5.0</td>\n",
       "      <td>4.0</td>\n",
       "      <td>2.0</td>\n",
       "      <td>NaN</td>\n",
       "      <td>4.0</td>\n",
       "      <td>3.0</td>\n",
       "      <td>NaN</td>\n",
       "      <td>3.0</td>\n",
       "      <td>...</td>\n",
       "      <td>5.0</td>\n",
       "      <td>NaN</td>\n",
       "      <td>NaN</td>\n",
       "      <td>4.0</td>\n",
       "      <td>3.0</td>\n",
       "      <td>2.0</td>\n",
       "      <td>1.0</td>\n",
       "      <td>4.0</td>\n",
       "      <td>NaN</td>\n",
       "      <td>4.0</td>\n",
       "    </tr>\n",
       "    <tr>\n",
       "      <th>Blade Runner</th>\n",
       "      <td>5.0</td>\n",
       "      <td>NaN</td>\n",
       "      <td>NaN</td>\n",
       "      <td>NaN</td>\n",
       "      <td>5.0</td>\n",
       "      <td>4.0</td>\n",
       "      <td>NaN</td>\n",
       "      <td>1.0</td>\n",
       "      <td>5.0</td>\n",
       "      <td>5.0</td>\n",
       "      <td>...</td>\n",
       "      <td>NaN</td>\n",
       "      <td>NaN</td>\n",
       "      <td>3.0</td>\n",
       "      <td>NaN</td>\n",
       "      <td>3.0</td>\n",
       "      <td>3.0</td>\n",
       "      <td>1.0</td>\n",
       "      <td>NaN</td>\n",
       "      <td>NaN</td>\n",
       "      <td>5.0</td>\n",
       "    </tr>\n",
       "    <tr>\n",
       "      <th>Braveheart</th>\n",
       "      <td>4.0</td>\n",
       "      <td>NaN</td>\n",
       "      <td>5.0</td>\n",
       "      <td>NaN</td>\n",
       "      <td>4.0</td>\n",
       "      <td>4.0</td>\n",
       "      <td>3.0</td>\n",
       "      <td>4.0</td>\n",
       "      <td>4.0</td>\n",
       "      <td>NaN</td>\n",
       "      <td>...</td>\n",
       "      <td>5.0</td>\n",
       "      <td>NaN</td>\n",
       "      <td>4.0</td>\n",
       "      <td>NaN</td>\n",
       "      <td>3.0</td>\n",
       "      <td>4.0</td>\n",
       "      <td>5.0</td>\n",
       "      <td>5.0</td>\n",
       "      <td>NaN</td>\n",
       "      <td>4.0</td>\n",
       "    </tr>\n",
       "    <tr>\n",
       "      <th>Dodgeball</th>\n",
       "      <td>5.0</td>\n",
       "      <td>4.0</td>\n",
       "      <td>3.0</td>\n",
       "      <td>2.0</td>\n",
       "      <td>4.0</td>\n",
       "      <td>NaN</td>\n",
       "      <td>4.0</td>\n",
       "      <td>5.0</td>\n",
       "      <td>3.0</td>\n",
       "      <td>4.0</td>\n",
       "      <td>...</td>\n",
       "      <td>3.0</td>\n",
       "      <td>NaN</td>\n",
       "      <td>3.0</td>\n",
       "      <td>NaN</td>\n",
       "      <td>4.0</td>\n",
       "      <td>3.0</td>\n",
       "      <td>4.0</td>\n",
       "      <td>3.0</td>\n",
       "      <td>NaN</td>\n",
       "      <td>3.0</td>\n",
       "    </tr>\n",
       "  </tbody>\n",
       "</table>\n",
       "<p>5 rows × 25 columns</p>\n",
       "</div>"
      ],
      "text/plain": [
       "              Patrick C  Heather  Bryan  Patrick T  Thomas  aaron  vanessa  \\\n",
       "Alien               NaN      NaN    2.0        NaN     5.0    4.0      NaN   \n",
       "Avatar              4.0      5.0    5.0        4.0     2.0    NaN      4.0   \n",
       "Blade Runner        5.0      NaN    NaN        NaN     5.0    4.0      NaN   \n",
       "Braveheart          4.0      NaN    5.0        NaN     4.0    4.0      3.0   \n",
       "Dodgeball           5.0      4.0    3.0        2.0     4.0    NaN      4.0   \n",
       "\n",
       "              greg  brian  ben  ...   Zak  Matt  Chris.1  Josh  Amy  Valerie  \\\n",
       "Alien          NaN    4.0  NaN  ...   NaN   NaN      4.0   3.0  NaN      NaN   \n",
       "Avatar         3.0    NaN  3.0  ...   5.0   NaN      NaN   4.0  3.0      2.0   \n",
       "Blade Runner   1.0    5.0  5.0  ...   NaN   NaN      3.0   NaN  3.0      3.0   \n",
       "Braveheart     4.0    4.0  NaN  ...   5.0   NaN      4.0   NaN  3.0      4.0   \n",
       "Dodgeball      5.0    3.0  4.0  ...   3.0   NaN      3.0   NaN  4.0      3.0   \n",
       "\n",
       "              Gary  Stephen  Jessica  Jeff  \n",
       "Alien          2.0      5.0      NaN   4.0  \n",
       "Avatar         1.0      4.0      NaN   4.0  \n",
       "Blade Runner   1.0      NaN      NaN   5.0  \n",
       "Braveheart     5.0      5.0      NaN   4.0  \n",
       "Dodgeball      4.0      3.0      NaN   3.0  \n",
       "\n",
       "[5 rows x 25 columns]"
      ]
     },
     "execution_count": 26,
     "metadata": {},
     "output_type": "execute_result"
    }
   ],
   "source": [
    "ratings.head()"
   ]
  },
  {
   "cell_type": "code",
   "execution_count": 27,
   "metadata": {
    "collapsed": true
   },
   "outputs": [],
   "source": [
    "ratings = ratings.to_dict('dict')"
   ]
  },
  {
   "cell_type": "code",
   "execution_count": 28,
   "metadata": {
    "collapsed": false
   },
   "outputs": [
    {
     "data": {
      "text/plain": [
       "dict"
      ]
     },
     "execution_count": 28,
     "metadata": {},
     "output_type": "execute_result"
    }
   ],
   "source": [
    "type(ratings)"
   ]
  },
  {
   "cell_type": "markdown",
   "metadata": {},
   "source": [
    "We have some nan values in our dictionary representing movies which have not been rated by users. We will remove these values so that our dictionary does not have any nan values. This helps us to use our Minkowski, nearestneighbor, and other fucntions without having to make any modifications to them."
   ]
  },
  {
   "cell_type": "code",
   "execution_count": 29,
   "metadata": {
    "collapsed": false
   },
   "outputs": [],
   "source": [
    "### remove nans from the dictionary\n",
    "clean_ratings = {k1:{k2:v2 for k2, v2 in v1.items() if (isnan(v2) == False)} for k1, v1 in ratings.items()}"
   ]
  },
  {
   "cell_type": "code",
   "execution_count": 30,
   "metadata": {
    "collapsed": false
   },
   "outputs": [
    {
     "data": {
      "text/plain": [
       "12.0"
      ]
     },
     "execution_count": 30,
     "metadata": {},
     "output_type": "execute_result"
    }
   ],
   "source": [
    "Manhattan(clean_ratings[\"Heather\"], clean_ratings[\"Bryan\"])"
   ]
  },
  {
   "cell_type": "code",
   "execution_count": 31,
   "metadata": {
    "collapsed": false
   },
   "outputs": [
    {
     "data": {
      "text/plain": [
       "11.0"
      ]
     },
     "execution_count": 31,
     "metadata": {},
     "output_type": "execute_result"
    }
   ],
   "source": [
    "Manhattan(clean_ratings[\"brian\"], clean_ratings[\"ben\"])"
   ]
  },
  {
   "cell_type": "code",
   "execution_count": 32,
   "metadata": {
    "collapsed": false
   },
   "outputs": [
    {
     "data": {
      "text/plain": [
       "4.0"
      ]
     },
     "execution_count": 32,
     "metadata": {},
     "output_type": "execute_result"
    }
   ],
   "source": [
    "Minkowski(clean_ratings[\"vanessa\"], clean_ratings[\"greg\"], 2)"
   ]
  },
  {
   "cell_type": "code",
   "execution_count": 33,
   "metadata": {
    "collapsed": false
   },
   "outputs": [
    {
     "data": {
      "text/plain": [
       "[('Josh', 1.0),\n",
       " ('vanessa', 1.4142135623730951),\n",
       " ('Amy', 1.4142135623730951),\n",
       " ('ben', 2.4494897427831779),\n",
       " ('Zwe', 2.4494897427831779),\n",
       " ('Jeff', 2.4494897427831779),\n",
       " ('Patrick T', 2.6457513110645907),\n",
       " ('Gary', 2.6457513110645907),\n",
       " ('Jessica', 2.6457513110645907),\n",
       " ('greg', 2.8284271247461903),\n",
       " ('Bryan', 3.3166247903553998),\n",
       " ('Jonathan', 3.3166247903553998),\n",
       " ('Heather', 3.4641016151377544),\n",
       " ('Erin', 3.4641016151377544),\n",
       " ('Zak', 3.7416573867739413),\n",
       " ('Chris', 3.872983346207417),\n",
       " ('Katherine', 4.0),\n",
       " ('Thomas', 4.2426406871192848),\n",
       " ('Patrick C', 4.358898943540674),\n",
       " ('Chris.1', 4.358898943540674),\n",
       " ('aaron', 4.5825756949558398),\n",
       " ('brian', 4.8989794855663558),\n",
       " ('Valerie', 5.0990195135927845),\n",
       " ('Stephen', 5.0990195135927845)]"
      ]
     },
     "execution_count": 33,
     "metadata": {},
     "output_type": "execute_result"
    }
   ],
   "source": [
    "nearestneighbor(\"Matt\", clean_ratings, 2)"
   ]
  },
  {
   "cell_type": "markdown",
   "metadata": {},
   "source": [
    "**Building the recommender system**"
   ]
  },
  {
   "cell_type": "markdown",
   "metadata": {},
   "source": [
    "We will go through the following steps to build our recommender system."
   ]
  },
  {
   "cell_type": "markdown",
   "metadata": {},
   "source": [
    "First, we find out the *k nearest neighbors* to our user of interest using the nearest neighbor function. We then calculate the cosine similarity of each neighbor with our user. This will serve to determine the order of similarity between the user and his/her neighbors. <BR>\n",
    "Now, for every neighbor, we find out movies which were not rated by our user, and multiply the movie's rating and the weight of the cosine similarity of that neighbor, to get the recommended rating for that movie. We sum the recommended ratings for each user and get the final rating for each movie. "
   ]
  },
  {
   "cell_type": "markdown",
   "metadata": {},
   "source": [
    "We then recommend the top 3 rated movies to our user."
   ]
  },
  {
   "cell_type": "code",
   "execution_count": 36,
   "metadata": {
    "collapsed": false
   },
   "outputs": [],
   "source": [
    "def recommender(our_user, users, k):\n",
    "    ### Getting the k nearest neigbors for our user\n",
    "    persons = []\n",
    "    for i in range(k):\n",
    "        persons.append(nearestneighbor(our_user, users, 2)[i][0])\n",
    "    ### Get the cosine similarity of our k nearest neighbors\n",
    "    weights = []\n",
    "    for j in persons:\n",
    "        weights.append(cosine(users[our_user], users[j]))\n",
    "    recommendations = {}\n",
    "    ### Multiply the rating of the movie with weight of the cosine similarity of the neighbor, for each neighbor\n",
    "    ### Add this product for every movie to get the recommended rating for that movie\n",
    "    for m in range(k):\n",
    "        for movie in users[persons[m]]:\n",
    "            if not movie in users[our_user]:\n",
    "                if not movie in recommendations:\n",
    "                    recommendations[movie] = users[persons[m]][movie]*(weights[m]/sum(weights))\n",
    "                else:\n",
    "                    recommendations[movie] += users[persons[m]][movie]*(weights[m]/sum(weights))\n",
    "    ### Sort the list and recommend the top 3 movies\n",
    "    final_list = list(recommendations.items())\n",
    "    final_list.sort(key = lambda x:x[1], reverse=True)\n",
    "    if len(final_list) < 3:\n",
    "        return [l[0] for l in final_list]\n",
    "    else:\n",
    "        return [l[0] for l in final_list][0:3]"
   ]
  },
  {
   "cell_type": "code",
   "execution_count": 37,
   "metadata": {
    "collapsed": false
   },
   "outputs": [
    {
     "data": {
      "text/plain": [
       "['Spiderman', 'The Dark Knight', 'Blade Runner']"
      ]
     },
     "execution_count": 37,
     "metadata": {},
     "output_type": "execute_result"
    }
   ],
   "source": [
    "recommender(\"vanessa\", clean_ratings, 3)"
   ]
  },
  {
   "cell_type": "code",
   "execution_count": 38,
   "metadata": {
    "collapsed": false
   },
   "outputs": [
    {
     "data": {
      "text/plain": [
       "['The Dark Knight']"
      ]
     },
     "execution_count": 38,
     "metadata": {},
     "output_type": "execute_result"
    }
   ],
   "source": [
    "recommender(\"Gary\", clean_ratings, 3)"
   ]
  },
  {
   "cell_type": "code",
   "execution_count": 39,
   "metadata": {
    "collapsed": false
   },
   "outputs": [
    {
     "data": {
      "text/plain": [
       "['Jaws', 'Alien']"
      ]
     },
     "execution_count": 39,
     "metadata": {},
     "output_type": "execute_result"
    }
   ],
   "source": [
    "recommender(\"Zak\", clean_ratings, 3)"
   ]
  },
  {
   "cell_type": "code",
   "execution_count": null,
   "metadata": {
    "collapsed": true
   },
   "outputs": [],
   "source": []
  }
 ],
 "metadata": {
  "kernelspec": {
   "display_name": "Python 3",
   "language": "python",
   "name": "python3"
  },
  "language_info": {
   "codemirror_mode": {
    "name": "ipython",
    "version": 3
   },
   "file_extension": ".py",
   "mimetype": "text/x-python",
   "name": "python",
   "nbconvert_exporter": "python",
   "pygments_lexer": "ipython3",
   "version": "3.6.0"
  }
 },
 "nbformat": 4,
 "nbformat_minor": 2
}
