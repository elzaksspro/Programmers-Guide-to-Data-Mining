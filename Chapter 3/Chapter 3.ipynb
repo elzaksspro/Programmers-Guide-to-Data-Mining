{
 "cells": [
  {
   "cell_type": "markdown",
   "metadata": {},
   "source": [
    "** Beginner's Guide to Data Mining by Ron Zacharski** <br>\n",
    "*Chapter 3 - Item Based Collaborative Filtering* "
   ]
  },
  {
   "cell_type": "markdown",
   "metadata": {},
   "source": [
    "In the previous chapter, we used collaborative filtering by recommending products rated by similar users. However, in this chapter, we will do something different, item based collaborative filtering. We determine the similarities between items. By using this metric and the user's ratings, we can make predictions for the ratings for products the user has not rated."
   ]
  },
  {
   "cell_type": "code",
   "execution_count": 1,
   "metadata": {
    "collapsed": true
   },
   "outputs": [],
   "source": [
    "from math import sqrt\n",
    "from operator import itemgetter"
   ]
  },
  {
   "cell_type": "code",
   "execution_count": 2,
   "metadata": {
    "collapsed": true
   },
   "outputs": [],
   "source": [
    "users = {\"Angelica\":{\"Blues Traveler\":3.5, \"Broken Bells\":2.0, \"Norah Jones\":4.5, \"Phoenix\":5.0, \"Slightly Stoopid\":1.5,\n",
    "                    \"The Strokes\":2.5, \"Vampire Weekend\":2.0}, \n",
    "        \"Bill\": {\"Blues Traveler\": 2.0, \"Broken Bells\": 3.5, \"Deadmau5\": 4.0, \"Phoenix\": 2.0, \n",
    "                 \"Slightly Stoopid\": 3.5, \"Vampire Weekend\": 3.0},\n",
    "        \"Chan\": {\"Blues Traveler\": 5.0, \"Broken Bells\": 1.0, \"Deadmau5\": 1.0, \"Norah Jones\": 3.0, \"Phoenix\": 5,\n",
    "                  \"Slightly Stoopid\": 1.0},\n",
    "        \"Dan\": {\"Blues Traveler\": 3.0, \"Broken Bells\": 4.0, \"Deadmau5\": 4.5, \"Phoenix\": 3.0, \"Slightly Stoopid\": 4.5, \n",
    "                \"The Strokes\": 4.0,\"Vampire Weekend\": 2.0},\n",
    "        \"Hailey\": {\"Broken Bells\": 4.0, \"Deadmau5\": 1.0, \"Norah Jones\": 4.0, \"The Strokes\": 4.0,\"Vampire Weekend\": 1.0},\n",
    "        \"Jordyn\": {\"Broken Bells\": 4.5, \"Deadmau5\": 4.0, \"Norah Jones\": 5.0, \"Phoenix\": 5.0, \"Slightly Stoopid\": 4.5,\n",
    "                   \"The Strokes\": 4.0, \"Vampire Weekend\": 4.0},\n",
    "        \"Sam\": {\"Blues Traveler\": 5.0, \"Broken Bells\": 2.0, \"Norah Jones\": 3.0, \"Phoenix\": 5.0, \"Slightly Stoopid\": 4.0,\n",
    "                \"The Strokes\": 5.0},\n",
    "        \"Veronica\": {\"Blues Traveler\": 3.0, \"Norah Jones\": 5.0, \"Phoenix\": 4.0, \"Slightly Stoopid\": 2.5,\n",
    "                     \"The Strokes\": 3.0}}"
   ]
  },
  {
   "cell_type": "code",
   "execution_count": 3,
   "metadata": {
    "collapsed": true
   },
   "outputs": [],
   "source": [
    "users2 = {\"Amy\": {\"Taylor Swift\": 4, \"PSY\": 3, \"Whitney Houston\": 4},\n",
    "          \"Ben\": {\"Taylor Swift\": 5, \"PSY\": 2},\n",
    "          \"Clara\": {\"PSY\": 3.5, \"Whitney Houston\": 4},\n",
    "          \"Daisy\": {\"Taylor Swift\": 5, \"Whitney Houston\": 3}}"
   ]
  },
  {
   "cell_type": "code",
   "execution_count": 4,
   "metadata": {
    "collapsed": true
   },
   "outputs": [],
   "source": [
    "users3 = {\"David\": {\"Imagine Dragons\": 3, \"Daft Punk\": 5, \"Lorde\": 4, \"Fall Out Boy\": 1},\n",
    "          \"Matt\":{\"Imagine Dragons\": 3, \"Daft Punk\": 4,\"Lorde\": 4, \"Fall Out Boy\": 1},\n",
    "          \"Ben\":   {\"Kacey Musgraves\": 4, \"Imagine Dragons\": 3,\"Lorde\": 3, \"Fall Out Boy\": 1},\n",
    "          \"Chris\": {\"Kacey Musgraves\": 4, \"Imagine Dragons\": 4,\"Daft Punk\": 4, \"Lorde\": 3, \"Fall Out Boy\": 1},\n",
    "          \"Tori\":  {\"Kacey Musgraves\": 5, \"Imagine Dragons\": 4,\"Daft Punk\": 5, \"Fall Out Boy\": 3}}"
   ]
  },
  {
   "cell_type": "markdown",
   "metadata": {},
   "source": [
    "We will make a function to calculate the adjusted cosine similarity between two bands. We find the similarity between two items which have both been rated by users. This is similar to the cosine similarity function we used in Chapter 2.<br>\n",
    "The formula is:"
   ]
  },
  {
   "cell_type": "markdown",
   "metadata": {},
   "source": [
    "$$s(i,j) =\\frac{ \\sum_{u \\in U} (R_{u,i} - \\bar{R_{u}})(R_{u,j} - \\bar{R_{u}}) } { \\sqrt {\\sum_{u \\in U} (R_{u,i} - \\bar{R_{u}})^{2}} \\sqrt {\\sum_{u \\in U} (R_{u,j} - \\bar{R_{u}})^{2}} } $$"
   ]
  },
  {
   "cell_type": "markdown",
   "metadata": {},
   "source": [
    "U is the set of users that have rated both items i and j"
   ]
  },
  {
   "cell_type": "markdown",
   "metadata": {},
   "source": [
    "We subtract the average rating of each user from his/her rating to normalize them. This helps us avoid rating inflation and ensures all user ratings have the same objective scale."
   ]
  },
  {
   "cell_type": "code",
   "execution_count": 5,
   "metadata": {
    "collapsed": true
   },
   "outputs": [],
   "source": [
    "def computesimilarity(band1, band2, users):\n",
    "    ###\n",
    "    averages = {}\n",
    "    for user, band in users.items():\n",
    "        averages[user] = sum(band.values())/(len(band.values()))\n",
    "    numerator = 0\n",
    "    dem1 = 0\n",
    "    dem2 = 0\n",
    "    for user, band in users.items():\n",
    "        if (band1 in band) and (band2 in band):\n",
    "            numerator += (band[band1] - averages[user])*(band[band2] - averages[user])\n",
    "            dem1 += (band[band1] - averages[user])**2\n",
    "            dem2 += (band[band2] - averages[user])**2            \n",
    "    return numerator/(sqrt(dem1)*sqrt(dem2))"
   ]
  },
  {
   "cell_type": "code",
   "execution_count": 6,
   "metadata": {
    "collapsed": false
   },
   "outputs": [
    {
     "data": {
      "text/plain": [
       "-0.5671074810201343"
      ]
     },
     "execution_count": 6,
     "metadata": {},
     "output_type": "execute_result"
    }
   ],
   "source": [
    "computesimilarity(\"The Strokes\", \"Deadmau5\", users)"
   ]
  },
  {
   "cell_type": "code",
   "execution_count": 7,
   "metadata": {
    "collapsed": false
   },
   "outputs": [
    {
     "data": {
      "text/plain": [
       "-0.2525265372291518"
      ]
     },
     "execution_count": 7,
     "metadata": {},
     "output_type": "execute_result"
    }
   ],
   "source": [
    "computesimilarity(\"Lorde\", \"Imagine Dragons\", users3)"
   ]
  },
  {
   "cell_type": "markdown",
   "metadata": {},
   "source": [
    "Weighted Slope One<BR>"
   ]
  },
  {
   "cell_type": "markdown",
   "metadata": {},
   "source": [
    "This is an algorithm which we can use to make recommendations for users. It involves two steps. In the first step, we calculate the deviations between item pairs. In simple words, we try to find out, on average, the deviation in the rating of item 1 from item 2. We do this for all item pairs. In the second step, we use these deviation values to predict ratings for items not rated by a user."
   ]
  },
  {
   "cell_type": "markdown",
   "metadata": {},
   "source": [
    "Step 1: Computing Deviations"
   ]
  },
  {
   "cell_type": "markdown",
   "metadata": {},
   "source": [
    "The formula for calculating deviations for item pairs is:"
   ]
  },
  {
   "cell_type": "markdown",
   "metadata": {},
   "source": [
    "$$ dev(i,j) = \\sum_{u \\in S_{i,j}(X)} \\frac {u_i - u_j} {card(S_{i,j}(X))} $$"
   ]
  },
  {
   "cell_type": "markdown",
   "metadata": {},
   "source": [
    "where $ S_{i,j} $ is the set of users who rated both items i and j. card(S) is how many elements are in S and X, that is how many users rated both items i and j."
   ]
  },
  {
   "cell_type": "markdown",
   "metadata": {},
   "source": [
    "Now, let us make a function to calculate this value for all item pairs."
   ]
  },
  {
   "cell_type": "code",
   "execution_count": 8,
   "metadata": {
    "collapsed": true
   },
   "outputs": [],
   "source": [
    "def deviations(data):\n",
    "    dev = {}\n",
    "    freq = {}\n",
    "    ### Get ratings from the dataset\n",
    "    for ratings in data.values():\n",
    "        ### For every item1, calculate the deviation of all items(item2) from item1\n",
    "        ### For every item1, calculate the frequency when item1 and item2 are rated by the same user\n",
    "        for item1, rating1 in ratings.items():\n",
    "            dev.setdefault(item1, {})\n",
    "            freq.setdefault(item1, {})\n",
    "            for item2, rating2 in ratings.items():\n",
    "                if item1 != item2:      \n",
    "                    dev[item1].setdefault(item2, 0)\n",
    "                    freq[item1].setdefault(item2, 0.0)\n",
    "                    dev[item1][item2] += rating1 - rating2\n",
    "                    freq[item1][item2] += 1\n",
    "    ### For every item1-item2 pair, divide the deviations by the frequencies to get the final deviation between the items\n",
    "    for k1, v1 in dev.items():\n",
    "        for k2 in v1:\n",
    "            v1[k2] /= freq[k1][k2]\n",
    "    ### Return two dictionaries. One contains the deviations of all items to item i. \n",
    "    ### The second contains the number of users who rated both items i and j.\n",
    "    return dev, freq"
   ]
  },
  {
   "cell_type": "code",
   "execution_count": 9,
   "metadata": {
    "collapsed": false
   },
   "outputs": [
    {
     "data": {
      "text/plain": [
       "({'PSY': {'Taylor Swift': -2.0, 'Whitney Houston': -0.75},\n",
       "  'Taylor Swift': {'PSY': 2.0, 'Whitney Houston': 1.0},\n",
       "  'Whitney Houston': {'PSY': 0.75, 'Taylor Swift': -1.0}},\n",
       " {'PSY': {'Taylor Swift': 2.0, 'Whitney Houston': 2.0},\n",
       "  'Taylor Swift': {'PSY': 2.0, 'Whitney Houston': 2.0},\n",
       "  'Whitney Houston': {'PSY': 2.0, 'Taylor Swift': 2.0}})"
      ]
     },
     "execution_count": 9,
     "metadata": {},
     "output_type": "execute_result"
    }
   ],
   "source": [
    "deviations(users2)"
   ]
  },
  {
   "cell_type": "markdown",
   "metadata": {},
   "source": [
    "The output contains two dictionaries. The first one contains deviations. For example, on average, PSY is rated 2 points below Taylor Swift and 0.85 points below Whitney Houston. The second dictionary contains the number of users who rated both items. So, 2 users rated PSY and Taylor Swift. Similarly, two users rated PSY and Whitney Houston."
   ]
  },
  {
   "cell_type": "code",
   "execution_count": 10,
   "metadata": {
    "collapsed": false
   },
   "outputs": [
    {
     "data": {
      "text/plain": [
       "({'Daft Punk': {'Fall Out Boy': 3.0,\n",
       "   'Imagine Dragons': 1.0,\n",
       "   'Kacey Musgraves': 0.0,\n",
       "   'Lorde': 0.6666666666666666},\n",
       "  'Fall Out Boy': {'Daft Punk': -3.0,\n",
       "   'Imagine Dragons': -2.0,\n",
       "   'Kacey Musgraves': -2.6666666666666665,\n",
       "   'Lorde': -2.5},\n",
       "  'Imagine Dragons': {'Daft Punk': -1.0,\n",
       "   'Fall Out Boy': 2.0,\n",
       "   'Kacey Musgraves': -0.6666666666666666,\n",
       "   'Lorde': -0.25},\n",
       "  'Kacey Musgraves': {'Daft Punk': 0.0,\n",
       "   'Fall Out Boy': 2.6666666666666665,\n",
       "   'Imagine Dragons': 0.6666666666666666,\n",
       "   'Lorde': 1.0},\n",
       "  'Lorde': {'Daft Punk': -0.6666666666666666,\n",
       "   'Fall Out Boy': 2.5,\n",
       "   'Imagine Dragons': 0.25,\n",
       "   'Kacey Musgraves': -1.0}},\n",
       " {'Daft Punk': {'Fall Out Boy': 4.0,\n",
       "   'Imagine Dragons': 4.0,\n",
       "   'Kacey Musgraves': 2.0,\n",
       "   'Lorde': 3.0},\n",
       "  'Fall Out Boy': {'Daft Punk': 4.0,\n",
       "   'Imagine Dragons': 5.0,\n",
       "   'Kacey Musgraves': 3.0,\n",
       "   'Lorde': 4.0},\n",
       "  'Imagine Dragons': {'Daft Punk': 4.0,\n",
       "   'Fall Out Boy': 5.0,\n",
       "   'Kacey Musgraves': 3.0,\n",
       "   'Lorde': 4.0},\n",
       "  'Kacey Musgraves': {'Daft Punk': 2.0,\n",
       "   'Fall Out Boy': 3.0,\n",
       "   'Imagine Dragons': 3.0,\n",
       "   'Lorde': 2.0},\n",
       "  'Lorde': {'Daft Punk': 3.0,\n",
       "   'Fall Out Boy': 4.0,\n",
       "   'Imagine Dragons': 4.0,\n",
       "   'Kacey Musgraves': 2.0}})"
      ]
     },
     "execution_count": 10,
     "metadata": {},
     "output_type": "execute_result"
    }
   ],
   "source": [
    "deviations(users3)"
   ]
  },
  {
   "cell_type": "code",
   "execution_count": 15,
   "metadata": {
    "collapsed": false
   },
   "outputs": [
    {
     "data": {
      "text/plain": [
       "({'Blues Traveler': {'Broken Bells': 1.2,\n",
       "   'Deadmau5': 0.16666666666666666,\n",
       "   'Norah Jones': 0.25,\n",
       "   'Phoenix': -0.4166666666666667,\n",
       "   'Slightly Stoopid': 0.75,\n",
       "   'The Strokes': 0.0,\n",
       "   'Vampire Weekend': 0.5},\n",
       "  'Broken Bells': {'Blues Traveler': -1.2,\n",
       "   'Deadmau5': 0.5,\n",
       "   'Norah Jones': -1.2,\n",
       "   'Phoenix': -1.3333333333333333,\n",
       "   'Slightly Stoopid': -0.3333333333333333,\n",
       "   'The Strokes': -0.6,\n",
       "   'Vampire Weekend': 1.2},\n",
       "  'Deadmau5': {'Blues Traveler': -0.16666666666666666,\n",
       "   'Broken Bells': -0.5,\n",
       "   'Norah Jones': -2.0,\n",
       "   'Phoenix': -0.375,\n",
       "   'Slightly Stoopid': 0.0,\n",
       "   'The Strokes': -0.8333333333333334,\n",
       "   'Vampire Weekend': 0.875},\n",
       "  'Norah Jones': {'Blues Traveler': -0.25,\n",
       "   'Broken Bells': 1.2,\n",
       "   'Deadmau5': 2.0,\n",
       "   'Phoenix': -0.7,\n",
       "   'Slightly Stoopid': 1.4,\n",
       "   'The Strokes': 0.6,\n",
       "   'Vampire Weekend': 2.1666666666666665},\n",
       "  'Phoenix': {'Blues Traveler': 0.4166666666666667,\n",
       "   'Broken Bells': 1.3333333333333333,\n",
       "   'Deadmau5': 0.375,\n",
       "   'Norah Jones': 0.7,\n",
       "   'Slightly Stoopid': 1.0714285714285714,\n",
       "   'The Strokes': 0.7,\n",
       "   'Vampire Weekend': 1.0},\n",
       "  'Slightly Stoopid': {'Blues Traveler': -0.75,\n",
       "   'Broken Bells': 0.3333333333333333,\n",
       "   'Deadmau5': 0.0,\n",
       "   'Norah Jones': -1.4,\n",
       "   'Phoenix': -1.0714285714285714,\n",
       "   'The Strokes': -0.3,\n",
       "   'Vampire Weekend': 0.75},\n",
       "  'The Strokes': {'Blues Traveler': 0.0,\n",
       "   'Broken Bells': 0.6,\n",
       "   'Deadmau5': 0.8333333333333334,\n",
       "   'Norah Jones': -0.6,\n",
       "   'Phoenix': -0.7,\n",
       "   'Slightly Stoopid': 0.3,\n",
       "   'Vampire Weekend': 1.375},\n",
       "  'Vampire Weekend': {'Blues Traveler': -0.5,\n",
       "   'Broken Bells': -1.2,\n",
       "   'Deadmau5': -0.875,\n",
       "   'Norah Jones': -2.1666666666666665,\n",
       "   'Phoenix': -1.0,\n",
       "   'Slightly Stoopid': -0.75,\n",
       "   'The Strokes': -1.375}},\n",
       " {'Blues Traveler': {'Broken Bells': 5.0,\n",
       "   'Deadmau5': 3.0,\n",
       "   'Norah Jones': 4.0,\n",
       "   'Phoenix': 6.0,\n",
       "   'Slightly Stoopid': 6.0,\n",
       "   'The Strokes': 4.0,\n",
       "   'Vampire Weekend': 3.0},\n",
       "  'Broken Bells': {'Blues Traveler': 5.0,\n",
       "   'Deadmau5': 5.0,\n",
       "   'Norah Jones': 5.0,\n",
       "   'Phoenix': 6.0,\n",
       "   'Slightly Stoopid': 6.0,\n",
       "   'The Strokes': 5.0,\n",
       "   'Vampire Weekend': 5.0},\n",
       "  'Deadmau5': {'Blues Traveler': 3.0,\n",
       "   'Broken Bells': 5.0,\n",
       "   'Norah Jones': 3.0,\n",
       "   'Phoenix': 4.0,\n",
       "   'Slightly Stoopid': 4.0,\n",
       "   'The Strokes': 3.0,\n",
       "   'Vampire Weekend': 4.0},\n",
       "  'Norah Jones': {'Blues Traveler': 4.0,\n",
       "   'Broken Bells': 5.0,\n",
       "   'Deadmau5': 3.0,\n",
       "   'Phoenix': 5.0,\n",
       "   'Slightly Stoopid': 5.0,\n",
       "   'The Strokes': 5.0,\n",
       "   'Vampire Weekend': 3.0},\n",
       "  'Phoenix': {'Blues Traveler': 6.0,\n",
       "   'Broken Bells': 6.0,\n",
       "   'Deadmau5': 4.0,\n",
       "   'Norah Jones': 5.0,\n",
       "   'Slightly Stoopid': 7.0,\n",
       "   'The Strokes': 5.0,\n",
       "   'Vampire Weekend': 4.0},\n",
       "  'Slightly Stoopid': {'Blues Traveler': 6.0,\n",
       "   'Broken Bells': 6.0,\n",
       "   'Deadmau5': 4.0,\n",
       "   'Norah Jones': 5.0,\n",
       "   'Phoenix': 7.0,\n",
       "   'The Strokes': 5.0,\n",
       "   'Vampire Weekend': 4.0},\n",
       "  'The Strokes': {'Blues Traveler': 4.0,\n",
       "   'Broken Bells': 5.0,\n",
       "   'Deadmau5': 3.0,\n",
       "   'Norah Jones': 5.0,\n",
       "   'Phoenix': 5.0,\n",
       "   'Slightly Stoopid': 5.0,\n",
       "   'Vampire Weekend': 4.0},\n",
       "  'Vampire Weekend': {'Blues Traveler': 3.0,\n",
       "   'Broken Bells': 5.0,\n",
       "   'Deadmau5': 4.0,\n",
       "   'Norah Jones': 3.0,\n",
       "   'Phoenix': 4.0,\n",
       "   'Slightly Stoopid': 4.0,\n",
       "   'The Strokes': 4.0}})"
      ]
     },
     "execution_count": 15,
     "metadata": {},
     "output_type": "execute_result"
    }
   ],
   "source": [
    "deviations(users)"
   ]
  },
  {
   "cell_type": "markdown",
   "metadata": {
    "collapsed": true
   },
   "source": [
    "Step 2: Predictions using Weighted Slope One"
   ]
  },
  {
   "cell_type": "markdown",
   "metadata": {},
   "source": [
    "The formula for making predictions is:"
   ]
  },
  {
   "cell_type": "markdown",
   "metadata": {},
   "source": [
    "$$ p^{wS1}(u)_j = \\frac {\\sum_{i \\in S(u) - (j)} (dev_{j,i} + u_i)c_{j,i}} {\\sum_{i \\in S(u) - (j)} c_{j,i}} $$"
   ]
  },
  {
   "cell_type": "markdown",
   "metadata": {},
   "source": [
    "$p^{wS1}(u)_j$ is the predicted rating of user u for item j. $c_{j,i}$ is the $card(S_{j,i}(X))$. $i \\in S(u)-(j)$ means for every item that user u has rated except of item j."
   ]
  },
  {
   "cell_type": "markdown",
   "metadata": {},
   "source": [
    "In the numerator we add the deviation of item j with item i and the user rating for item i. We multiply this sum by the total number of users who have rated both item j and i."
   ]
  },
  {
   "cell_type": "markdown",
   "metadata": {},
   "source": [
    "Let's code the function to calculate this."
   ]
  },
  {
   "cell_type": "code",
   "execution_count": 11,
   "metadata": {
    "collapsed": true
   },
   "outputs": [],
   "source": [
    "def slopeone(data, user):\n",
    "    recommendations = {}\n",
    "    frequency = deviations(data)[1]\n",
    "    denominator = {}\n",
    "    final = {}\n",
    "    ### for every item and rating in the user's recommendations\n",
    "    for item, ratings in user.items():\n",
    "        ### for every item our user did not rate\n",
    "        for DiffItem, DiffRatings in deviations(data)[0].items():\n",
    "            \n",
    "            if (DiffItem not in user) and (item in deviations(data)[0][DiffItem]):\n",
    "                #freq = frequency[item2][item1]\n",
    "                recommendations.setdefault(DiffItem, 0.0)\n",
    "                denominator.setdefault(DiffItem, 0)\n",
    "                recommendations[DiffItem] += (deviations(data)[0][DiffItem][item] + user[item])*frequency[item][DiffItem]\n",
    "                denominator[DiffItem] += frequency[item][DiffItem]\n",
    "                \n",
    "    \n",
    "    for k1 in recommendations:\n",
    "        final[k1] = recommendations[k1]/denominator[k1]\n",
    "    return sorted(final.items(), key=itemgetter(1), reverse=True)"
   ]
  },
  {
   "cell_type": "code",
   "execution_count": 12,
   "metadata": {
    "collapsed": false
   },
   "outputs": [
    {
     "data": {
      "text/plain": [
       "dict_items([('Taylor Swift', 5), ('PSY', 2)])"
      ]
     },
     "execution_count": 12,
     "metadata": {},
     "output_type": "execute_result"
    }
   ],
   "source": [
    "users2[\"Ben\"].items()"
   ]
  },
  {
   "cell_type": "code",
   "execution_count": 13,
   "metadata": {
    "collapsed": false
   },
   "outputs": [
    {
     "data": {
      "text/plain": [
       "dict_items([('Taylor Swift', {'PSY': 2.0, 'Whitney Houston': 1.0}), ('PSY', {'Taylor Swift': -2.0, 'Whitney Houston': -0.75}), ('Whitney Houston', {'Taylor Swift': -1.0, 'PSY': 0.75})])"
      ]
     },
     "execution_count": 13,
     "metadata": {},
     "output_type": "execute_result"
    }
   ],
   "source": [
    "deviations(users2)[0].items()"
   ]
  },
  {
   "cell_type": "code",
   "execution_count": 14,
   "metadata": {
    "collapsed": false
   },
   "outputs": [
    {
     "data": {
      "text/plain": [
       "[('Whitney Houston', 3.375)]"
      ]
     },
     "execution_count": 14,
     "metadata": {},
     "output_type": "execute_result"
    }
   ],
   "source": [
    "slopeone(users2, users2[\"Ben\"])"
   ]
  },
  {
   "cell_type": "code",
   "execution_count": 16,
   "metadata": {
    "collapsed": false
   },
   "outputs": [
    {
     "data": {
      "text/plain": [
       "[('Deadmau5', 2.8529411764705883),\n",
       " ('Broken Bells', 2.5555555555555554),\n",
       " ('Vampire Weekend', 2.3055555555555554)]"
      ]
     },
     "execution_count": 16,
     "metadata": {},
     "output_type": "execute_result"
    }
   ],
   "source": [
    "slopeone(users, users[\"Veronica\"])"
   ]
  },
  {
   "cell_type": "code",
   "execution_count": 18,
   "metadata": {
    "collapsed": false
   },
   "outputs": [
    {
     "data": {
      "text/plain": [
       "[('Kacey Musgraves', 4.2)]"
      ]
     },
     "execution_count": 18,
     "metadata": {},
     "output_type": "execute_result"
    }
   ],
   "source": [
    "slopeone(users3, users3[\"David\"])"
   ]
  },
  {
   "cell_type": "code",
   "execution_count": null,
   "metadata": {
    "collapsed": true
   },
   "outputs": [],
   "source": []
  }
 ],
 "metadata": {
  "kernelspec": {
   "display_name": "Python 3",
   "language": "python",
   "name": "python3"
  },
  "language_info": {
   "codemirror_mode": {
    "name": "ipython",
    "version": 3
   },
   "file_extension": ".py",
   "mimetype": "text/x-python",
   "name": "python",
   "nbconvert_exporter": "python",
   "pygments_lexer": "ipython3",
   "version": "3.6.0"
  }
 },
 "nbformat": 4,
 "nbformat_minor": 2
}
